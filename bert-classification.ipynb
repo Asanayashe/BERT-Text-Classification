{
 "metadata": {
  "kernelspec": {
   "language": "python",
   "display_name": "Python 3",
   "name": "python3"
  },
  "language_info": {
   "name": "python",
   "version": "3.10.10",
   "mimetype": "text/x-python",
   "codemirror_mode": {
    "name": "ipython",
    "version": 3
   },
   "pygments_lexer": "ipython3",
   "nbconvert_exporter": "python",
   "file_extension": ".py"
  }
 },
 "nbformat_minor": 4,
 "nbformat": 4,
 "cells": [
  {
   "cell_type": "code",
   "source": [
    "import torch\n",
    "from torch.utils.data import TensorDataset, DataLoader, RandomSampler, SequentialSampler\n",
    "from sklearn.model_selection import train_test_split\n",
    "from pytorch_transformers import BertTokenizer, BertConfig\n",
    "from pytorch_transformers import AdamW, BertForSequenceClassification\n",
    "from torch.nn.utils.rnn import pad_sequence\n",
    "from tqdm import tqdm, trange\n",
    "import pandas as pd\n",
    "import io\n",
    "import numpy as np\n",
    "from sklearn.metrics import accuracy_score\n",
    "import matplotlib.pyplot as plt"
   ],
   "metadata": {
    "_uuid": "8f2839f25d086af736a60e9eeb907d3b93b6e0e5",
    "_cell_guid": "b1076dfc-b9ad-4769-8c92-a6c4dae69d19",
    "execution": {
     "iopub.status.busy": "2023-05-30T14:55:15.782378Z",
     "iopub.execute_input": "2023-05-30T14:55:15.785910Z",
     "iopub.status.idle": "2023-05-30T14:55:19.491595Z",
     "shell.execute_reply.started": "2023-05-30T14:55:15.785870Z",
     "shell.execute_reply": "2023-05-30T14:55:19.490549Z"
    },
    "trusted": true
   },
   "execution_count": 2,
   "outputs": []
  },
  {
   "cell_type": "code",
   "source": [
    "device = torch.device(\"cuda\" if torch.cuda.is_available() else \"cpu\")\n",
    "print(device)"
   ],
   "metadata": {
    "execution": {
     "iopub.status.busy": "2023-05-30T14:55:19.493033Z",
     "iopub.execute_input": "2023-05-30T14:55:19.493802Z",
     "iopub.status.idle": "2023-05-30T14:55:19.528505Z",
     "shell.execute_reply.started": "2023-05-30T14:55:19.493774Z",
     "shell.execute_reply": "2023-05-30T14:55:19.526932Z"
    },
    "trusted": true
   },
   "execution_count": 3,
   "outputs": [
    {
     "name": "stdout",
     "text": "cuda\n",
     "output_type": "stream"
    }
   ]
  },
  {
   "cell_type": "code",
   "source": [
    "df = pd.read_csv('/kaggle/input/nlp-getting-started/train.csv')\n",
    "df = df.drop(['id', 'keyword', 'location'], axis=1)\n",
    "df.head()"
   ],
   "metadata": {
    "execution": {
     "iopub.status.busy": "2023-05-30T14:55:19.531339Z",
     "iopub.execute_input": "2023-05-30T14:55:19.532001Z",
     "iopub.status.idle": "2023-05-30T14:55:19.609528Z",
     "shell.execute_reply.started": "2023-05-30T14:55:19.531970Z",
     "shell.execute_reply": "2023-05-30T14:55:19.608536Z"
    },
    "trusted": true
   },
   "execution_count": 4,
   "outputs": [
    {
     "execution_count": 4,
     "output_type": "execute_result",
     "data": {
      "text/plain": "                                                text  target\n0  Our Deeds are the Reason of this #earthquake M...       1\n1             Forest fire near La Ronge Sask. Canada       1\n2  All residents asked to 'shelter in place' are ...       1\n3  13,000 people receive #wildfires evacuation or...       1\n4  Just got sent this photo from Ruby #Alaska as ...       1",
      "text/html": "<div>\n<style scoped>\n    .dataframe tbody tr th:only-of-type {\n        vertical-align: middle;\n    }\n\n    .dataframe tbody tr th {\n        vertical-align: top;\n    }\n\n    .dataframe thead th {\n        text-align: right;\n    }\n</style>\n<table border=\"1\" class=\"dataframe\">\n  <thead>\n    <tr style=\"text-align: right;\">\n      <th></th>\n      <th>text</th>\n      <th>target</th>\n    </tr>\n  </thead>\n  <tbody>\n    <tr>\n      <th>0</th>\n      <td>Our Deeds are the Reason of this #earthquake M...</td>\n      <td>1</td>\n    </tr>\n    <tr>\n      <th>1</th>\n      <td>Forest fire near La Ronge Sask. Canada</td>\n      <td>1</td>\n    </tr>\n    <tr>\n      <th>2</th>\n      <td>All residents asked to 'shelter in place' are ...</td>\n      <td>1</td>\n    </tr>\n    <tr>\n      <th>3</th>\n      <td>13,000 people receive #wildfires evacuation or...</td>\n      <td>1</td>\n    </tr>\n    <tr>\n      <th>4</th>\n      <td>Just got sent this photo from Ruby #Alaska as ...</td>\n      <td>1</td>\n    </tr>\n  </tbody>\n</table>\n</div>"
     },
     "metadata": {}
    }
   ]
  },
  {
   "cell_type": "code",
   "source": [
    "sentences = df.text.values\n",
    "sentences = [\"[CLS] \" + sentence + \" [SEP]\" for sentence in sentences]\n",
    "labels = df.target.values.reshape(-1, 1)"
   ],
   "metadata": {
    "execution": {
     "iopub.status.busy": "2023-05-30T14:55:19.611061Z",
     "iopub.execute_input": "2023-05-30T14:55:19.611818Z",
     "iopub.status.idle": "2023-05-30T14:55:19.619687Z",
     "shell.execute_reply.started": "2023-05-30T14:55:19.611774Z",
     "shell.execute_reply": "2023-05-30T14:55:19.618794Z"
    },
    "trusted": true
   },
   "execution_count": 5,
   "outputs": []
  },
  {
   "cell_type": "code",
   "source": [
    "sentences[:2]"
   ],
   "metadata": {
    "execution": {
     "iopub.status.busy": "2023-05-30T14:55:19.621413Z",
     "iopub.execute_input": "2023-05-30T14:55:19.621937Z",
     "iopub.status.idle": "2023-05-30T14:55:19.633741Z",
     "shell.execute_reply.started": "2023-05-30T14:55:19.621906Z",
     "shell.execute_reply": "2023-05-30T14:55:19.632550Z"
    },
    "trusted": true
   },
   "execution_count": 6,
   "outputs": [
    {
     "execution_count": 6,
     "output_type": "execute_result",
     "data": {
      "text/plain": "['[CLS] Our Deeds are the Reason of this #earthquake May ALLAH Forgive us all [SEP]',\n '[CLS] Forest fire near La Ronge Sask. Canada [SEP]']"
     },
     "metadata": {}
    }
   ]
  },
  {
   "cell_type": "code",
   "source": [
    "train_sentences, test_sentences, train_gt, test_gt = train_test_split(sentences, labels, test_size=0.3)\n",
    "print(len(train_gt), len(test_gt))"
   ],
   "metadata": {
    "execution": {
     "iopub.status.busy": "2023-05-30T14:55:19.634996Z",
     "iopub.execute_input": "2023-05-30T14:55:19.635628Z",
     "iopub.status.idle": "2023-05-30T14:55:19.647118Z",
     "shell.execute_reply.started": "2023-05-30T14:55:19.635595Z",
     "shell.execute_reply": "2023-05-30T14:55:19.645915Z"
    },
    "trusted": true
   },
   "execution_count": 7,
   "outputs": [
    {
     "name": "stdout",
     "text": "5329 2284\n",
     "output_type": "stream"
    }
   ]
  },
  {
   "cell_type": "code",
   "source": [
    "tokenizer = BertTokenizer.from_pretrained('bert-base-uncased', do_lower_case=True)\n",
    "\n",
    "tokenized_texts = [tokenizer.tokenize(sent) for sent in train_sentences]\n",
    "print(tokenized_texts[0])"
   ],
   "metadata": {
    "execution": {
     "iopub.status.busy": "2023-05-30T14:55:19.648506Z",
     "iopub.execute_input": "2023-05-30T14:55:19.649079Z",
     "iopub.status.idle": "2023-05-30T14:55:23.974246Z",
     "shell.execute_reply.started": "2023-05-30T14:55:19.649046Z",
     "shell.execute_reply": "2023-05-30T14:55:23.973186Z"
    },
    "trusted": true
   },
   "execution_count": 8,
   "outputs": [
    {
     "name": "stderr",
     "text": "100%|██████████| 231508/231508 [00:00<00:00, 1234407.96B/s]\n",
     "output_type": "stream"
    },
    {
     "name": "stdout",
     "text": "['[CLS]', 'l', '##ma', '##o', 'that', 'light', 'skin', 'guy', 'blew', 'up', 'on', 'twitter', 'by', 'talking', 'about', 'how', 'ugly', 'he', 'was', 'as', 'a', 'kid', '.', '.', '[SEP]']\n",
     "output_type": "stream"
    }
   ]
  },
  {
   "cell_type": "code",
   "source": [
    "input_ids = [torch.LongTensor(tokenizer.convert_tokens_to_ids(x)) for x in tokenized_texts]\n",
    "input_ids = pad_sequence(input_ids, batch_first=True)\n",
    "attention_masks = [[float(i>0) for i in seq] for seq in input_ids]    "
   ],
   "metadata": {
    "execution": {
     "iopub.status.busy": "2023-05-30T14:55:23.975691Z",
     "iopub.execute_input": "2023-05-30T14:55:23.976234Z",
     "iopub.status.idle": "2023-05-30T14:55:27.003806Z",
     "shell.execute_reply.started": "2023-05-30T14:55:23.976199Z",
     "shell.execute_reply": "2023-05-30T14:55:27.002872Z"
    },
    "trusted": true
   },
   "execution_count": 9,
   "outputs": []
  },
  {
   "cell_type": "code",
   "source": [
    "input_ids"
   ],
   "metadata": {
    "execution": {
     "iopub.status.busy": "2023-05-30T14:55:27.007640Z",
     "iopub.execute_input": "2023-05-30T14:55:27.007945Z",
     "iopub.status.idle": "2023-05-30T14:55:27.025119Z",
     "shell.execute_reply.started": "2023-05-30T14:55:27.007921Z",
     "shell.execute_reply": "2023-05-30T14:55:27.024130Z"
    },
    "trusted": true
   },
   "execution_count": 10,
   "outputs": [
    {
     "execution_count": 10,
     "output_type": "execute_result",
     "data": {
      "text/plain": "tensor([[  101,  1048,  2863,  ...,     0,     0,     0],\n        [  101,  1001, 27263,  ...,     0,     0,     0],\n        [  101,  2821,  3524,  ...,     0,     0,     0],\n        ...,\n        [  101,  1001, 13082,  ...,     0,     0,     0],\n        [  101, 15476,  1012,  ...,     0,     0,     0],\n        [  101,  2900,  6017,  ...,     0,     0,     0]])"
     },
     "metadata": {}
    }
   ]
  },
  {
   "cell_type": "code",
   "source": [
    "train_inputs, validation_inputs, train_labels, validation_labels = train_test_split(\n",
    "    input_ids, train_gt, \n",
    "    random_state=42,\n",
    "    test_size=0.1\n",
    ")\n",
    "\n",
    "train_masks, validation_masks, _, _ = train_test_split(\n",
    "    attention_masks,\n",
    "    input_ids,\n",
    "    random_state=42,\n",
    "    test_size=0.1\n",
    ")"
   ],
   "metadata": {
    "execution": {
     "iopub.status.busy": "2023-05-30T14:55:27.026422Z",
     "iopub.execute_input": "2023-05-30T14:55:27.026913Z",
     "iopub.status.idle": "2023-05-30T14:55:27.052094Z",
     "shell.execute_reply.started": "2023-05-30T14:55:27.026882Z",
     "shell.execute_reply": "2023-05-30T14:55:27.051149Z"
    },
    "trusted": true
   },
   "execution_count": 11,
   "outputs": []
  },
  {
   "cell_type": "code",
   "source": [
    "train_inputs = torch.tensor(train_inputs)\n",
    "train_labels = torch.tensor(train_labels)\n",
    "train_masks = torch.tensor(train_masks)"
   ],
   "metadata": {
    "execution": {
     "iopub.status.busy": "2023-05-30T14:55:27.053634Z",
     "iopub.execute_input": "2023-05-30T14:55:27.053965Z",
     "iopub.status.idle": "2023-05-30T14:55:27.163138Z",
     "shell.execute_reply.started": "2023-05-30T14:55:27.053935Z",
     "shell.execute_reply": "2023-05-30T14:55:27.162169Z"
    },
    "trusted": true
   },
   "execution_count": 12,
   "outputs": [
    {
     "name": "stderr",
     "text": "/tmp/ipykernel_28/2770780951.py:1: UserWarning: To copy construct from a tensor, it is recommended to use sourceTensor.clone().detach() or sourceTensor.clone().detach().requires_grad_(True), rather than torch.tensor(sourceTensor).\n  train_inputs = torch.tensor(train_inputs)\n",
     "output_type": "stream"
    }
   ]
  },
  {
   "cell_type": "code",
   "source": [
    "validation_inputs = torch.tensor(validation_inputs)\n",
    "validation_labels = torch.tensor(validation_labels)\n",
    "validation_masks = torch.tensor(validation_masks)"
   ],
   "metadata": {
    "execution": {
     "iopub.status.busy": "2023-05-30T14:55:27.164314Z",
     "iopub.execute_input": "2023-05-30T14:55:27.165719Z",
     "iopub.status.idle": "2023-05-30T14:55:27.184079Z",
     "shell.execute_reply.started": "2023-05-30T14:55:27.165685Z",
     "shell.execute_reply": "2023-05-30T14:55:27.183227Z"
    },
    "trusted": true
   },
   "execution_count": 13,
   "outputs": [
    {
     "name": "stderr",
     "text": "/tmp/ipykernel_28/3527131799.py:1: UserWarning: To copy construct from a tensor, it is recommended to use sourceTensor.clone().detach() or sourceTensor.clone().detach().requires_grad_(True), rather than torch.tensor(sourceTensor).\n  validation_inputs = torch.tensor(validation_inputs)\n",
     "output_type": "stream"
    }
   ]
  },
  {
   "cell_type": "code",
   "source": [
    "train_labels"
   ],
   "metadata": {
    "execution": {
     "iopub.status.busy": "2023-05-30T14:55:27.185359Z",
     "iopub.execute_input": "2023-05-30T14:55:27.185923Z",
     "iopub.status.idle": "2023-05-30T14:55:27.192432Z",
     "shell.execute_reply.started": "2023-05-30T14:55:27.185892Z",
     "shell.execute_reply": "2023-05-30T14:55:27.191310Z"
    },
    "trusted": true
   },
   "execution_count": 14,
   "outputs": [
    {
     "execution_count": 14,
     "output_type": "execute_result",
     "data": {
      "text/plain": "tensor([[0],\n        [0],\n        [0],\n        ...,\n        [1],\n        [0],\n        [0]])"
     },
     "metadata": {}
    }
   ]
  },
  {
   "cell_type": "code",
   "source": [
    "train_data = TensorDataset(train_inputs, train_masks, train_labels)\n",
    "train_dataloader = DataLoader(\n",
    "    train_data,\n",
    "    sampler=RandomSampler(train_data),\n",
    "    batch_size=32\n",
    ")"
   ],
   "metadata": {
    "execution": {
     "iopub.status.busy": "2023-05-30T14:55:27.193872Z",
     "iopub.execute_input": "2023-05-30T14:55:27.194436Z",
     "iopub.status.idle": "2023-05-30T14:55:27.200652Z",
     "shell.execute_reply.started": "2023-05-30T14:55:27.194404Z",
     "shell.execute_reply": "2023-05-30T14:55:27.199724Z"
    },
    "trusted": true
   },
   "execution_count": 15,
   "outputs": []
  },
  {
   "cell_type": "code",
   "source": [
    "validation_data = TensorDataset(validation_inputs, validation_masks, validation_labels)\n",
    "validation_dataloader = DataLoader(\n",
    "    validation_data,\n",
    "    sampler=SequentialSampler(validation_data),\n",
    "    batch_size=32\n",
    ")"
   ],
   "metadata": {
    "execution": {
     "iopub.status.busy": "2023-05-30T14:55:27.202184Z",
     "iopub.execute_input": "2023-05-30T14:55:27.202608Z",
     "iopub.status.idle": "2023-05-30T14:55:27.210564Z",
     "shell.execute_reply.started": "2023-05-30T14:55:27.202578Z",
     "shell.execute_reply": "2023-05-30T14:55:27.209684Z"
    },
    "trusted": true
   },
   "execution_count": 16,
   "outputs": []
  },
  {
   "cell_type": "code",
   "source": [
    "model = BertForSequenceClassification.from_pretrained(\"bert-base-uncased\", num_labels=2)\n",
    "model.cuda()"
   ],
   "metadata": {
    "execution": {
     "iopub.status.busy": "2023-05-30T14:55:27.212357Z",
     "iopub.execute_input": "2023-05-30T14:55:27.212803Z",
     "iopub.status.idle": "2023-05-30T14:55:47.144387Z",
     "shell.execute_reply.started": "2023-05-30T14:55:27.212773Z",
     "shell.execute_reply": "2023-05-30T14:55:47.143428Z"
    },
    "trusted": true
   },
   "execution_count": 17,
   "outputs": [
    {
     "name": "stderr",
     "text": "100%|██████████| 433/433 [00:00<00:00, 179318.09B/s]\n100%|██████████| 440473133/440473133 [00:12<00:00, 36565174.54B/s]\n",
     "output_type": "stream"
    },
    {
     "execution_count": 17,
     "output_type": "execute_result",
     "data": {
      "text/plain": "BertForSequenceClassification(\n  (bert): BertModel(\n    (embeddings): BertEmbeddings(\n      (word_embeddings): Embedding(30522, 768, padding_idx=0)\n      (position_embeddings): Embedding(512, 768)\n      (token_type_embeddings): Embedding(2, 768)\n      (LayerNorm): LayerNorm((768,), eps=1e-12, elementwise_affine=True)\n      (dropout): Dropout(p=0.1, inplace=False)\n    )\n    (encoder): BertEncoder(\n      (layer): ModuleList(\n        (0-11): 12 x BertLayer(\n          (attention): BertAttention(\n            (self): BertSelfAttention(\n              (query): Linear(in_features=768, out_features=768, bias=True)\n              (key): Linear(in_features=768, out_features=768, bias=True)\n              (value): Linear(in_features=768, out_features=768, bias=True)\n              (dropout): Dropout(p=0.1, inplace=False)\n            )\n            (output): BertSelfOutput(\n              (dense): Linear(in_features=768, out_features=768, bias=True)\n              (LayerNorm): LayerNorm((768,), eps=1e-12, elementwise_affine=True)\n              (dropout): Dropout(p=0.1, inplace=False)\n            )\n          )\n          (intermediate): BertIntermediate(\n            (dense): Linear(in_features=768, out_features=3072, bias=True)\n          )\n          (output): BertOutput(\n            (dense): Linear(in_features=3072, out_features=768, bias=True)\n            (LayerNorm): LayerNorm((768,), eps=1e-12, elementwise_affine=True)\n            (dropout): Dropout(p=0.1, inplace=False)\n          )\n        )\n      )\n    )\n    (pooler): BertPooler(\n      (dense): Linear(in_features=768, out_features=768, bias=True)\n      (activation): Tanh()\n    )\n  )\n  (dropout): Dropout(p=0.1, inplace=False)\n  (classifier): Linear(in_features=768, out_features=2, bias=True)\n)"
     },
     "metadata": {}
    }
   ]
  },
  {
   "cell_type": "code",
   "source": [
    "param_optimizer = list(model.named_parameters())\n",
    "no_decay = ['bias', 'gamma', 'beta']\n",
    "optimizer_grouped_parameters = [\n",
    "    {'params': [p for n, p in param_optimizer if not any(nd in n for nd in no_decay)],\n",
    "     'weight_decay_rate': 0.01},\n",
    "    {'params': [p for n, p in param_optimizer if any(nd in n for nd in no_decay)],\n",
    "     'weight_decay_rate': 0.0}\n",
    "]\n",
    "\n",
    "optimizer = AdamW(optimizer_grouped_parameters, lr=2e-5)"
   ],
   "metadata": {
    "execution": {
     "iopub.status.busy": "2023-05-30T14:55:47.148756Z",
     "iopub.execute_input": "2023-05-30T14:55:47.151725Z",
     "iopub.status.idle": "2023-05-30T14:55:47.171290Z",
     "shell.execute_reply.started": "2023-05-30T14:55:47.151690Z",
     "shell.execute_reply": "2023-05-30T14:55:47.165221Z"
    },
    "trusted": true
   },
   "execution_count": 18,
   "outputs": []
  },
  {
   "cell_type": "code",
   "source": [
    "from IPython.display import clear_output\n",
    "\n",
    "train_loss_set = []\n",
    "train_loss = 0\n",
    "\n",
    "model.train()\n",
    "\n",
    "\n",
    "for step, batch in enumerate(train_dataloader):\n",
    "\n",
    "    batch = tuple(t.to(device) for t in batch)\n",
    "\n",
    "    b_input_ids, b_input_mask, b_labels = batch\n",
    "\n",
    "    optimizer.zero_grad()\n",
    "\n",
    "    loss = model(b_input_ids, token_type_ids=None, attention_mask=b_input_mask, labels=b_labels)\n",
    "\n",
    "    train_loss_set.append(loss[0].item())  \n",
    "\n",
    "    loss[0].backward()\n",
    "\n",
    "    optimizer.step()\n",
    "\n",
    "    train_loss += loss[0].item()\n",
    "\n",
    "    clear_output(True)\n",
    "    plt.plot(train_loss_set)\n",
    "    plt.title(\"Training loss\")\n",
    "    plt.xlabel(\"Batch\")\n",
    "    plt.ylabel(\"Loss\")\n",
    "    plt.show()\n",
    "    \n",
    "print(\"Loss на обучающей выборке: {0:.5f}\".format(train_loss / len(train_dataloader)))\n",
    "\n",
    "model.eval()\n",
    "\n",
    "valid_preds, valid_labels = [], []\n",
    "\n",
    "for batch in validation_dataloader:\n",
    "    batch = tuple(t.to(device) for t in batch)\n",
    "\n",
    "    b_input_ids, b_input_mask, b_labels = batch\n",
    "\n",
    "    with torch.no_grad():\n",
    "        logits = model(b_input_ids, token_type_ids=None, attention_mask=b_input_mask)\n",
    "\n",
    "    logits = logits[0].detach().cpu().numpy()\n",
    "    label_ids = b_labels.to('cpu').numpy()\n",
    "    \n",
    "    batch_preds = np.argmax(logits, axis=1)\n",
    "    batch_labels = np.concatenate(label_ids)     \n",
    "    valid_preds.extend(batch_preds)\n",
    "    valid_labels.extend(batch_labels)\n",
    "\n",
    "print(\"Процент правильных предсказаний на валидационной выборке: {0:.2f}%\".format(\n",
    "    accuracy_score(valid_labels, valid_preds) * 100\n",
    "))"
   ],
   "metadata": {
    "execution": {
     "iopub.status.busy": "2023-05-30T15:07:55.335544Z",
     "iopub.execute_input": "2023-05-30T15:07:55.335915Z",
     "iopub.status.idle": "2023-05-30T15:09:19.476779Z",
     "shell.execute_reply.started": "2023-05-30T15:07:55.335887Z",
     "shell.execute_reply": "2023-05-30T15:09:19.475542Z"
    },
    "trusted": true
   },
   "execution_count": 35,
   "outputs": [
    {
     "output_type": "display_data",
     "data": {
      "text/plain": "<Figure size 640x480 with 1 Axes>",
      "image/png": "[encoded data removed]"
     },
     "metadata": {}
    },
    {
     "name": "stdout",
     "text": "Loss на обучающей выборке: 0.32870\nПроцент правильных предсказаний на валидационной выборке: 79.55%\n",
     "output_type": "stream"
    }
   ]
  },
  {
   "cell_type": "markdown",
   "source": [
    "# Оценка качества на тестовой выборке"
   ],
   "metadata": {}
  },
  {
   "cell_type": "code",
   "source": [
    "tokenized_texts = [tokenizer.tokenize(sent) for sent in test_sentences]\n",
    "\n",
    "input_ids = [torch.LongTensor(tokenizer.convert_tokens_to_ids(x)) for x in tokenized_texts]\n",
    "\n",
    "input_ids = pad_sequence(\n",
    "    input_ids, batch_first=True)"
   ],
   "metadata": {
    "execution": {
     "iopub.status.busy": "2023-05-30T15:26:04.425581Z",
     "iopub.execute_input": "2023-05-30T15:26:04.426137Z",
     "iopub.status.idle": "2023-05-30T15:26:06.746151Z",
     "shell.execute_reply.started": "2023-05-30T15:26:04.426105Z",
     "shell.execute_reply": "2023-05-30T15:26:06.745085Z"
    },
    "trusted": true
   },
   "execution_count": 36,
   "outputs": []
  },
  {
   "cell_type": "code",
   "source": [
    "attention_masks = [[float(i>0) for i in seq] for seq in input_ids]\n",
    "prediction_inputs = torch.tensor(input_ids)\n",
    "prediction_masks = torch.tensor(attention_masks)\n",
    "prediction_labels = torch.tensor(test_gt)\n",
    "\n",
    "prediction_data = TensorDataset(\n",
    "    prediction_inputs,\n",
    "    prediction_masks,\n",
    "    prediction_labels\n",
    ")\n",
    "\n",
    "prediction_dataloader = DataLoader(\n",
    "    prediction_data, \n",
    "    sampler=SequentialSampler(prediction_data),\n",
    "    batch_size=32\n",
    ")"
   ],
   "metadata": {
    "execution": {
     "iopub.status.busy": "2023-05-30T15:06:44.717433Z",
     "iopub.execute_input": "2023-05-30T15:06:44.717900Z",
     "iopub.status.idle": "2023-05-30T15:06:45.844177Z",
     "shell.execute_reply.started": "2023-05-30T15:06:44.717863Z",
     "shell.execute_reply": "2023-05-30T15:06:45.842313Z"
    },
    "trusted": true
   },
   "execution_count": 31,
   "outputs": [
    {
     "name": "stderr",
     "text": "/tmp/ipykernel_28/3335180650.py:2: UserWarning: To copy construct from a tensor, it is recommended to use sourceTensor.clone().detach() or sourceTensor.clone().detach().requires_grad_(True), rather than torch.tensor(sourceTensor).\n  prediction_inputs = torch.tensor(input_ids)\n",
     "output_type": "stream"
    }
   ]
  },
  {
   "cell_type": "code",
   "source": [
    "model.eval()\n",
    "test_preds, test_labels = [], []\n",
    "\n",
    "for batch in prediction_dataloader:\n",
    "    batch = tuple(t.to(device) for t in batch)\n",
    "\n",
    "    b_input_ids, b_input_mask, b_labels = batch\n",
    "    \n",
    "\n",
    "    with torch.no_grad():\n",
    "        logits = model(b_input_ids, token_type_ids=None, attention_mask=b_input_mask)\n",
    "\n",
    "    logits = logits[0].detach().cpu().numpy()\n",
    "    label_ids = b_labels.to('cpu').numpy()\n",
    "\n",
    "    batch_preds = np.argmax(logits, axis=1)\n",
    "    batch_labels = np.concatenate(label_ids)  \n",
    "    test_preds.extend(batch_preds)\n",
    "    test_labels.extend(batch_labels)"
   ],
   "metadata": {
    "execution": {
     "iopub.status.busy": "2023-05-30T15:26:09.400325Z",
     "iopub.execute_input": "2023-05-30T15:26:09.400912Z",
     "iopub.status.idle": "2023-05-30T15:26:15.357831Z",
     "shell.execute_reply.started": "2023-05-30T15:26:09.400878Z",
     "shell.execute_reply": "2023-05-30T15:26:15.356734Z"
    },
    "trusted": true
   },
   "execution_count": 38,
   "outputs": []
  },
  {
   "cell_type": "code",
   "source": "acc_score = accuracy_score(test_labels, test_preds)\nprint('Процент правильных предсказаний на отложенной выборке составил: {0:.2f}%'.format(\n    acc_score*100\n))",
   "metadata": {
    "execution": {
     "iopub.status.busy": "2023-05-30T15:26:15.370688Z",
     "iopub.execute_input": "2023-05-30T15:26:15.371311Z",
     "iopub.status.idle": "2023-05-30T15:26:15.386192Z",
     "shell.execute_reply.started": "2023-05-30T15:26:15.371273Z",
     "shell.execute_reply": "2023-05-30T15:26:15.385177Z"
    },
    "trusted": true
   },
   "execution_count": 40,
   "outputs": [
    {
     "name": "stdout",
     "text": "Процент правильных предсказаний на отложенной выборке составил: 81.96%\n",
     "output_type": "stream"
    }
   ]
  },
  {
   "cell_type": "code",
   "source": "",
   "metadata": {},
   "execution_count": null,
   "outputs": []
  }
 ]
}